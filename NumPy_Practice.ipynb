{
 "cells": [
  {
   "cell_type": "markdown",
   "id": "b81c07e2",
   "metadata": {},
   "source": [
    "# NumPy (Numerical Python) is a Python library that:\n",
    "\n",
    "* Efficiently stores and processes large, multi-dimensional arrays\n",
    "* Provides fast mathematical operations\n",
    "* Serves as the base foundation for scientific computing and data analysis"
   ]
  },
  {
   "cell_type": "markdown",
   "id": "e8f5b007",
   "metadata": {},
   "source": [
    "## Array Creation"
   ]
  },
  {
   "cell_type": "markdown",
   "id": "861d24a1-5f1c-4db2-a5cf-7238a43b6e86",
   "metadata": {},
   "source": [
    "## 1 D array"
   ]
  },
  {
   "cell_type": "code",
   "execution_count": 2,
   "id": "ea55538e-a376-415c-be4a-7a974a6a9fbf",
   "metadata": {},
   "outputs": [
    {
     "name": "stdout",
     "output_type": "stream",
     "text": [
      "[1 2 3 4 5]\n"
     ]
    }
   ],
   "source": [
    "import numpy as np\n",
    "a=np.array([1,2,3,4,5])\n",
    "print(a)"
   ]
  },
  {
   "cell_type": "markdown",
   "id": "a6c3a8e2-335b-410a-8075-a1bf17fd82f1",
   "metadata": {},
   "source": [
    "## 2 D array"
   ]
  },
  {
   "cell_type": "code",
   "execution_count": 5,
   "id": "b3c20a53-84b7-4a13-8ca4-1a140d9989b3",
   "metadata": {},
   "outputs": [
    {
     "name": "stdout",
     "output_type": "stream",
     "text": [
      "[[1 2 3 4]\n",
      " [5 6 7 8]]\n"
     ]
    }
   ],
   "source": [
    "import numpy as np\n",
    "a2=np.array([[1,2,3,4],[5,6,7,8]])\n",
    "print(a2)"
   ]
  },
  {
   "cell_type": "markdown",
   "id": "2500c650-ff96-4ef1-ac84-2f886df71d93",
   "metadata": {},
   "source": [
    "## 3 D array"
   ]
  },
  {
   "cell_type": "code",
   "execution_count": 2,
   "id": "d1ed035f-ddd9-4a1a-956f-5b856b5fb9b6",
   "metadata": {},
   "outputs": [
    {
     "name": "stdout",
     "output_type": "stream",
     "text": [
      "[[[ 1  2  3  4]\n",
      "  [ 5  6  7  8]]\n",
      "\n",
      " [[ 9 10 11 12]\n",
      "  [13 14 15 16]]]\n"
     ]
    }
   ],
   "source": [
    "import numpy as np\n",
    "a3=np.array([[[1,2,3,4],[5,6,7,8]],[[9,10,11,12],[13,14,15,16]]])\n",
    "print(a3)\n"
   ]
  },
  {
   "cell_type": "markdown",
   "id": "31dd81ea",
   "metadata": {},
   "source": [
    " # Useful Attributes\n",
    "\n",
    " # NumPy Array Attributes Reference\n",
    "\n",
    "| Attribute | Function/Syntax | Description | Example Output |\n",
    "|-----------|----------------|-------------|----------------|\n",
    "| **Shape** | `a.shape` | Returns the dimensions of the array (rows, columns, etc.) | `(2, 3)` |\n",
    "| **Dimensions** | `a.ndim` | Returns the number of dimensions (1D, 2D, 3D...) | `2` |\n",
    "| **Data Type** | `a.dtype` | Returns the data type of array elements (int, float, etc.) | `int64`, `float32` |\n",
    "| **Size** | `a.size` | Returns the total number of elements in the array | `6` |\n",
    "\n"
   ]
  },
  {
   "cell_type": "code",
   "execution_count": null,
   "id": "b5412b09",
   "metadata": {},
   "outputs": [
    {
     "name": "stdout",
     "output_type": "stream",
     "text": [
      "(2, 2, 4)\n"
     ]
    }
   ],
   "source": [
    "import numpy as np\n",
    "\n",
    "# Create a sample 2D array\n",
    "a = np.array([[1, 2, 3], [4, 5, 6]])\n",
    "\n",
    "print(f\"Shape: {a.shape}\")      # Output: (2, 3)\n",
    "print(f\"Dimensions: {a.ndim}\")  # Output: 2\n",
    "print(f\"Data Type: {a.dtype}\")  # Output: int64 \n",
    "print(f\"Size: {a.size}\")        # Output: 6"
   ]
  },
  {
   "cell_type": "markdown",
   "id": "c65318e0",
   "metadata": {},
   "source": [
    "# Array Creation Functions\n",
    "# NumPy Array Creation Functions Reference\n",
    "\n",
    "| Function | Syntax | Example | Description | Output |\n",
    "|----------|--------|---------|-------------|--------|\n",
    "| **Zeros** | `np.zeros()` | `np.zeros((2, 3))` | Creates an array filled with zeros | 2 rows × 3 columns |\n",
    "| **Ones** | `np.ones()` | `np.ones((3, 2))` | Creates an array filled with ones | 3 rows × 2 columns |\n",
    "| **Full** | `np.full()` | `np.full((2, 2), 7)` | Creates an array filled with a specific value | 2 rows × 2 columns |\n",
    "| **Identity** | `np.eye()` | `np.eye(3)` | Creates an identity matrix (1s on diagonal, 0s elsewhere) | 3 × 3 square matrix |\n",
    "| **Range** | `np.arange()` | `np.arange(0, 10, 2)` | Creates a range of numbers with specified step | [0 2 4 6 8] |\n",
    "| **Linear Space** | `np.linspace()` | `np.linspace(0, 1, 5)` | Creates evenly spaced values between start & end | 5 values |\n",
    "| **Random Float** | `np.random.rand()` | `np.random.rand(2, 3)` | Creates random float numbers (0 to 1) | 2 rows × 3 columns |\n",
    "| **Random Integer** | `np.random.randint()` | `np.random.randint(1, 10, (2, 4))` | Creates random integers within specified range | 2 rows × 4 columns |\n",
    "\n"
   ]
  },
  {
   "cell_type": "markdown",
   "id": "8d9d48c5-02d1-4612-8bf8-50375ca9652c",
   "metadata": {},
   "source": [
    "## Some Basic method  related to array creation"
   ]
  },
  {
   "cell_type": "code",
   "execution_count": 4,
   "id": "66d50695-b397-4fef-b983-36f74abc59d7",
   "metadata": {},
   "outputs": [
    {
     "name": "stdout",
     "output_type": "stream",
     "text": [
      "[[1. 1. 1. 1.]\n",
      " [1. 1. 1. 1.]\n",
      " [1. 1. 1. 1.]]\n"
     ]
    }
   ],
   "source": [
    "a4=np.ones((3,4))\n",
    "print(a4)"
   ]
  },
  {
   "cell_type": "code",
   "execution_count": 5,
   "id": "3c8eefa1-1cc0-4d8e-9d4a-64c295c972af",
   "metadata": {},
   "outputs": [
    {
     "name": "stdout",
     "output_type": "stream",
     "text": [
      "[[0. 0. 0. 0. 0.]\n",
      " [0. 0. 0. 0. 0.]]\n"
     ]
    }
   ],
   "source": [
    "a4=np.zeros((2,5))\n",
    "print(a4)"
   ]
  },
  {
   "cell_type": "code",
   "execution_count": 6,
   "id": "4df6ac90-5e6b-4d27-8211-a7cadf53cfa3",
   "metadata": {},
   "outputs": [
    {
     "name": "stdout",
     "output_type": "stream",
     "text": [
      "[[9 9 9 9]\n",
      " [9 9 9 9]\n",
      " [9 9 9 9]\n",
      " [9 9 9 9]]\n"
     ]
    }
   ],
   "source": [
    "a4=np.full((4,4),9)\n",
    "print(a4)"
   ]
  },
  {
   "cell_type": "code",
   "execution_count": 7,
   "id": "5747ce51-91ac-4b9e-977d-3aa57d8bdf30",
   "metadata": {},
   "outputs": [
    {
     "name": "stdout",
     "output_type": "stream",
     "text": [
      "[[1. 0. 0. 0. 0.]\n",
      " [0. 1. 0. 0. 0.]\n",
      " [0. 0. 1. 0. 0.]\n",
      " [0. 0. 0. 1. 0.]\n",
      " [0. 0. 0. 0. 1.]]\n"
     ]
    }
   ],
   "source": [
    "a4=np.eye(5)\n",
    "print(a4)"
   ]
  },
  {
   "cell_type": "code",
   "execution_count": 9,
   "id": "f702a709-ce06-4f25-ab9e-19dbe1326f1d",
   "metadata": {},
   "outputs": [
    {
     "name": "stdout",
     "output_type": "stream",
     "text": [
      "[ 5 10 15 20]\n"
     ]
    }
   ],
   "source": [
    "a4=np.arange(5,25,5)\n",
    "print(a4)"
   ]
  },
  {
   "cell_type": "code",
   "execution_count": 10,
   "id": "a3f72313-30fe-456a-ab85-292bbc6189b0",
   "metadata": {},
   "outputs": [
    {
     "name": "stdout",
     "output_type": "stream",
     "text": [
      "[0.         0.11111111 0.22222222 0.33333333 0.44444444 0.55555556\n",
      " 0.66666667 0.77777778 0.88888889 1.        ]\n"
     ]
    }
   ],
   "source": [
    "a4=np.linspace(0,1,10)\n",
    "print(a4)"
   ]
  },
  {
   "cell_type": "code",
   "execution_count": 12,
   "id": "fa3985b9",
   "metadata": {},
   "outputs": [
    {
     "name": "stdout",
     "output_type": "stream",
     "text": [
      "[[0.14957587 0.13624275 0.5657611 ]\n",
      " [0.03106808 0.60666727 0.73008088]\n",
      " [0.54938241 0.06306858 0.82013585]]\n"
     ]
    }
   ],
   "source": [
    "a5=np.random.rand(3,3)\n",
    "print(a5)"
   ]
  },
  {
   "cell_type": "code",
   "execution_count": 13,
   "id": "7b10622d",
   "metadata": {},
   "outputs": [
    {
     "name": "stdout",
     "output_type": "stream",
     "text": [
      "[[70 36]\n",
      " [51 23]\n",
      " [51 13]]\n"
     ]
    }
   ],
   "source": [
    "a6=np.random.randint(10,100,(3,2))\n",
    "print(a6)"
   ]
  },
  {
   "cell_type": "markdown",
   "id": "b2e93481",
   "metadata": {},
   "source": [
    "# Array Operations"
   ]
  },
  {
   "cell_type": "markdown",
   "id": "7ee59a8f",
   "metadata": {},
   "source": [
    " ### Element-wise Arithmetic Operations"
   ]
  },
  {
   "cell_type": "code",
   "execution_count": null,
   "id": "bbaead70",
   "metadata": {},
   "outputs": [
    {
     "name": "stdout",
     "output_type": "stream",
     "text": [
      "Addition: [5 7 9]\n",
      "Subtraction: [-3 -3 -3]\n",
      "Multiplication: [ 4 10 18]\n",
      "Division: [0.25 0.4  0.5 ]\n",
      "Power: [1 4 9]\n"
     ]
    }
   ],
   "source": [
    "import numpy as np\n",
    "\n",
    "a = np.array([1, 2, 3])\n",
    "b = np.array([4, 5, 6])\n",
    "\n",
    "print(\"Addition:\", a + b)        \n",
    "print(\"Subtraction:\", a - b)   \n",
    "print(\"Multiplication:\", a * b)\n",
    "print(\"Division:\", a / b)        \n",
    "print(\"Power:\", a ** 2)         \n"
   ]
  },
  {
   "cell_type": "markdown",
   "id": "51cd3110",
   "metadata": {},
   "source": [
    "### Aggregate Functions (Summary Statistics)"
   ]
  },
  {
   "cell_type": "code",
   "execution_count": 16,
   "id": "cde5e0ab",
   "metadata": {},
   "outputs": [
    {
     "name": "stdout",
     "output_type": "stream",
     "text": [
      "Sum: 100\n",
      "Mean: 25.0\n",
      "Max: 40\n",
      "Min: 10\n",
      "Standard Deviation: 11.180339887498949\n"
     ]
    }
   ],
   "source": [
    "arr = np.array([10, 20, 30, 40])\n",
    "\n",
    "print(\"Sum:\", arr.sum())          \n",
    "print(\"Mean:\", arr.mean())        \n",
    "print(\"Max:\", arr.max())          \n",
    "print(\"Min:\", arr.min())           \n",
    "print(\"Standard Deviation:\", arr.std())  \n"
   ]
  },
  {
   "cell_type": "markdown",
   "id": "79a3e136",
   "metadata": {},
   "source": [
    "### Array Comparison"
   ]
  },
  {
   "cell_type": "code",
   "execution_count": 18,
   "id": "f27b8a82",
   "metadata": {},
   "outputs": [
    {
     "name": "stdout",
     "output_type": "stream",
     "text": [
      "[False False False]\n",
      "[False  True False]\n",
      "[ True False  True]\n"
     ]
    }
   ],
   "source": [
    "a = np.array([1, 2, 3])\n",
    "b = np.array([2, 2, 4])\n",
    "\n",
    "print(a > b)   \n",
    "print(a == b)\n",
    "print(a!=b)  \n"
   ]
  },
  {
   "cell_type": "markdown",
   "id": "63aee1d4",
   "metadata": {},
   "source": [
    "\n",
    " Complete List of Matrix Operations in NumPy\n",
    "\n",
    "| Operation Type            | Function / Syntax          | Description                              |\n",
    "| ------------------------- | -------------------------- | ---------------------------------------- |\n",
    "| **Addition**              | `a + b`                    | Element-wise addition                    |\n",
    "| **Subtraction**           | `a - b`                    | Element-wise subtraction                 |\n",
    "| **Element-wise Multiply** | `a * b`                    | Element-wise multiplication              |\n",
    "| **Matrix Multiplication** | `np.dot(a, b)` or `a @ b`  | True matrix multiplication (dot product) |\n",
    "| **Transpose**             | `a.T`                      | Swap rows and columns                    |\n",
    "| **Inverse**               | `np.linalg.inv(a)`         | Matrix inverse (only for square matrix)  |\n",
    "| **Determinant**           | `np.linalg.det(a)`         | Determinant of matrix                    |\n",
    "| **Rank**                  | `np.linalg.matrix_rank(a)` | Rank of the matrix                       |\n",
    "| **Trace**                 | `np.trace(a)`              | Sum of diagonal elements                 |\n",
    "| **Eigenvalues/Vectors**   | `np.linalg.eig(a)`         | Eigenvalues and eigenvectors             |\n",
    "| **Solve Linear Eq.**      | `np.linalg.solve(a, b)`    | Solve system of linear equations         |\n",
    "\n",
    "**np.linalg is the linear algebra module inside NumPy — it gives advanced matrix functions.** \n"
   ]
  },
  {
   "cell_type": "code",
   "execution_count": 19,
   "id": "80ce5d66",
   "metadata": {},
   "outputs": [
    {
     "name": "stdout",
     "output_type": "stream",
     "text": [
      "Matrix A:\n",
      " [[1 2]\n",
      " [3 4]]\n",
      "Matrix B:\n",
      " [[5 6]\n",
      " [7 8]]\n",
      "\n",
      "Addition (A + B):\n",
      " [[ 6  8]\n",
      " [10 12]]\n",
      "\n",
      "Subtraction (A - B):\n",
      " [[-4 -4]\n",
      " [-4 -4]]\n",
      "\n",
      "Element-wise Multiplication (A * B):\n",
      " [[ 5 12]\n",
      " [21 32]]\n",
      "\n",
      "Matrix Multiplication (A @ B):\n",
      " [[19 22]\n",
      " [43 50]]\n",
      "\n",
      "Transpose of A:\n",
      " [[1 3]\n",
      " [2 4]]\n",
      "\n",
      "Determinant of A: -2.0000000000000004\n",
      "\n",
      "Inverse of A:\n",
      " [[-2.   1. ]\n",
      " [ 1.5 -0.5]]\n",
      "\n",
      "Trace of A: 5\n",
      "\n",
      "Rank of A: 2\n",
      "\n",
      "Eigenvalues of A: [-0.37228132  5.37228132]\n",
      "Eigenvectors of A:\n",
      " [[-0.82456484 -0.41597356]\n",
      " [ 0.56576746 -0.90937671]]\n",
      "\n",
      "Solution of linear system Ax = b:\n",
      " [2.2 3.6]\n"
     ]
    }
   ],
   "source": [
    "import numpy as np\n",
    "\n",
    "# Matrices\n",
    "a = np.array([[1, 2], [3, 4]])\n",
    "b = np.array([[5, 6], [7, 8]])\n",
    "\n",
    "print(\"Matrix A:\\n\", a)\n",
    "print(\"Matrix B:\\n\", b)\n",
    "\n",
    "# Element-wise addition\n",
    "print(\"\\nAddition (A + B):\\n\", a + b)\n",
    "\n",
    "# Element-wise subtraction\n",
    "print(\"\\nSubtraction (A - B):\\n\", a - b)\n",
    "\n",
    "# Element-wise multiplication\n",
    "print(\"\\nElement-wise Multiplication (A * B):\\n\", a * b)\n",
    "\n",
    "# Matrix multiplication (dot product)\n",
    "print(\"\\nMatrix Multiplication (A @ B):\\n\", a @ b)  # same as np.dot(a, b)\n",
    "\n",
    "# Transpose\n",
    "print(\"\\nTranspose of A:\\n\", a.T)\n",
    "\n",
    "# Determinant\n",
    "print(\"\\nDeterminant of A:\", np.linalg.det(a))\n",
    "\n",
    "# Inverse\n",
    "print(\"\\nInverse of A:\\n\", np.linalg.inv(a))\n",
    "\n",
    "# Trace (sum of diagonal)\n",
    "print(\"\\nTrace of A:\", np.trace(a))\n",
    "\n",
    "# Rank\n",
    "print(\"\\nRank of A:\", np.linalg.matrix_rank(a))\n",
    "\n",
    "# Eigenvalues and Eigenvectors\n",
    "eigenvalues, eigenvectors = np.linalg.eig(a)\n",
    "print(\"\\nEigenvalues of A:\", eigenvalues)\n",
    "print(\"Eigenvectors of A:\\n\", eigenvectors)\n",
    "\n",
    "# Solving Linear System Ax = b\n",
    "A = np.array([[2, 1], [1, 3]])\n",
    "B = np.array([8, 13])\n",
    "x = np.linalg.solve(A, B)\n",
    "print(\"\\nSolution of linear system Ax = b:\\n\", x)\n"
   ]
  },
  {
   "cell_type": "markdown",
   "id": "3329d27a",
   "metadata": {},
   "source": [
    "# Indexing & Slicing"
   ]
  },
  {
   "cell_type": "code",
   "execution_count": 20,
   "id": "b947cc49",
   "metadata": {},
   "outputs": [
    {
     "name": "stdout",
     "output_type": "stream",
     "text": [
      "10\n",
      "50\n"
     ]
    }
   ],
   "source": [
    "# Indexing in 1d Array\n",
    "a = np.array([10, 20, 30, 40, 50])\n",
    "\n",
    "print(a[0])   # First element → 10\n",
    "print(a[-1])  # Last element → 50\n"
   ]
  },
  {
   "cell_type": "code",
   "execution_count": 21,
   "id": "56d0618b",
   "metadata": {},
   "outputs": [
    {
     "name": "stdout",
     "output_type": "stream",
     "text": [
      "1\n",
      "6\n"
     ]
    }
   ],
   "source": [
    "# Indexing in 2D array\n",
    "a = np.array([[1, 2, 3],\n",
    "              [4, 5, 6]])\n",
    "\n",
    "print(a[0, 0])  # First row, first column → 1\n",
    "print(a[1, 2])  # Second row, third column → 6\n"
   ]
  },
  {
   "cell_type": "code",
   "execution_count": 22,
   "id": "4d3b122c-efa6-4942-bde1-2d6aa629615d",
   "metadata": {},
   "outputs": [
    {
     "name": "stdout",
     "output_type": "stream",
     "text": [
      "[20 30 40]\n",
      "[10 20 30]\n",
      "[10 30 50]\n"
     ]
    }
   ],
   "source": [
    "# Sciling in 1D array\n",
    "a = np.array([10, 20, 30, 40, 50])\n",
    "\n",
    "print(a[1:4])    # From index 1 to 3 → [20, 30, 40]\n",
    "print(a[:3])     # From start to index 2 → [10, 20, 30]\n",
    "print(a[::2])    # Every second element → [10, 30, 50]\n"
   ]
  },
  {
   "cell_type": "code",
   "execution_count": 23,
   "id": "65d1e9a8",
   "metadata": {},
   "outputs": [
    {
     "name": "stdout",
     "output_type": "stream",
     "text": [
      "[[2 3]\n",
      " [5 6]]\n",
      "[1 4 7]\n",
      "[4 5 6]\n"
     ]
    }
   ],
   "source": [
    "# Slicing in 2D Array\n",
    "a = np.array([[1, 2, 3],\n",
    "              [4, 5, 6],\n",
    "              [7, 8, 9]])\n",
    "\n",
    "print(a[0:2, 1:])   # Rows 0–1, columns 1–2 → [[2,3],[5,6]]\n",
    "print(a[:, 0])      # All rows, column 0 → [1, 4, 7]\n",
    "print(a[1, :])      # Row 1, all columns → [4, 5, 6]\n"
   ]
  },
  {
   "cell_type": "markdown",
   "id": "a8ae465b",
   "metadata": {},
   "source": [
    "### Deep Indexing & Slicing\n",
    "You can access multiple specfic elements"
   ]
  },
  {
   "cell_type": "code",
   "execution_count": null,
   "id": "b3c105e0",
   "metadata": {},
   "outputs": [
    {
     "name": "stdout",
     "output_type": "stream",
     "text": [
      "[1 4 6 8]\n"
     ]
    }
   ],
   "source": [
    "# Fancy Indexing (1D Array)\n",
    "a=np.array([1,2,3,4,5,6,7,8,9])\n",
    "print(a[[0,3,5,7]])"
   ]
  },
  {
   "cell_type": "code",
   "execution_count": 27,
   "id": "90844e48",
   "metadata": {},
   "outputs": [
    {
     "name": "stdout",
     "output_type": "stream",
     "text": [
      "[[ 1  2  3  4  5  6  7  8  9]\n",
      " [ 9  8  7  6  5  4  3  2  1]\n",
      " [ 3  4  3  7  8  9  4 32  7]]\n"
     ]
    }
   ],
   "source": [
    "# Fancy Indexing (1D Array)\n",
    "a=np.array([[1,2,3,4,5,6,7,8,9],[9,8,7,6,5,4,3,2,1],[3,4,3,7,8,9,4,32,7]])\n",
    "print(a)"
   ]
  },
  {
   "cell_type": "code",
   "execution_count": 28,
   "id": "c77e1986",
   "metadata": {},
   "outputs": [
    {
     "name": "stdout",
     "output_type": "stream",
     "text": [
      "[[ 1  2  3  4  5  6  7  8  9]\n",
      " [ 3  4  3  7  8  9  4 32  7]]\n"
     ]
    }
   ],
   "source": [
    "print(a[[0,2]])"
   ]
  },
  {
   "cell_type": "code",
   "execution_count": 30,
   "id": "a513116a",
   "metadata": {},
   "outputs": [
    {
     "name": "stdout",
     "output_type": "stream",
     "text": [
      "[1 4]\n"
     ]
    }
   ],
   "source": [
    "print(a[[0,2],[0,1]])"
   ]
  },
  {
   "cell_type": "code",
   "execution_count": 31,
   "id": "9c7dabc5",
   "metadata": {},
   "outputs": [
    {
     "name": "stdout",
     "output_type": "stream",
     "text": [
      "[[2 3]\n",
      " [8 7]\n",
      " [4 3]]\n"
     ]
    }
   ],
   "source": [
    "print(a[:,[1,2]])"
   ]
  },
  {
   "cell_type": "code",
   "execution_count": 33,
   "id": "36b877a4",
   "metadata": {},
   "outputs": [
    {
     "name": "stdout",
     "output_type": "stream",
     "text": [
      "[[1 2 3 4 5 6 7 8 9]\n",
      " [9 8 7 6 5 4 3 2 1]]\n"
     ]
    }
   ],
   "source": [
    "print(a[[0,1]])"
   ]
  },
  {
   "cell_type": "code",
   "execution_count": 34,
   "id": "89e73b11",
   "metadata": {},
   "outputs": [
    {
     "name": "stdout",
     "output_type": "stream",
     "text": [
      "[[1 2]\n",
      " [9 8]\n",
      " [3 4]]\n"
     ]
    }
   ],
   "source": [
    "print(a[:,[0,1]])"
   ]
  },
  {
   "cell_type": "code",
   "execution_count": 35,
   "id": "5b6406af",
   "metadata": {},
   "outputs": [
    {
     "name": "stdout",
     "output_type": "stream",
     "text": [
      "[15 20 25]\n",
      "[10 20]\n"
     ]
    }
   ],
   "source": [
    "# Boolean Indexing (Filtering Elements)\n",
    "a = np.array([5, 10, 15, 20, 25])\n",
    "# Get all values > 10\n",
    "print(a[a > 10])   # [15 20 25]\n",
    "\n",
    "# Get even values\n",
    "print(a[a % 2 == 0])  # [10 20]"
   ]
  },
  {
   "cell_type": "code",
   "execution_count": 36,
   "id": "d843f858",
   "metadata": {},
   "outputs": [
    {
     "name": "stdout",
     "output_type": "stream",
     "text": [
      "[ 5 10  0  0  0]\n"
     ]
    }
   ],
   "source": [
    "# Modifying Using Boolean Mask\n",
    "a[a>10]=0\n",
    "print(a)"
   ]
  },
  {
   "cell_type": "code",
   "execution_count": 38,
   "id": "e73dbee6",
   "metadata": {},
   "outputs": [
    {
     "name": "stdout",
     "output_type": "stream",
     "text": [
      "Row-wise sum: [ 6 15]\n",
      "Column-wise sum: [5 7 9]\n",
      "Row-wise max: [3 6]\n",
      "Column-wise mean: [2.5 3.5 4.5]\n"
     ]
    }
   ],
   "source": [
    "# Axis-Based Operations + np.where()\n",
    "a = np.array([[1, 2, 3],\n",
    "              [4, 5, 6]])\n",
    "\n",
    "# Sum along rows (axis=1)\n",
    "print(\"Row-wise sum:\", a.sum(axis=1))  # → [ 6 15]\n",
    "\n",
    "# Sum along columns (axis=0)\n",
    "print(\"Column-wise sum:\", a.sum(axis=0))  # → [5 7 9]\n",
    "\n",
    "# Max along each row\n",
    "print(\"Row-wise max:\", np.max(a, axis=1))  # → [3 6]\n",
    "\n",
    "# Mean of columns\n",
    "print(\"Column-wise mean:\", a.mean(axis=0))  # → [2.5 3.5 4.5]\n"
   ]
  },
  {
   "cell_type": "code",
   "execution_count": 39,
   "id": "de325189",
   "metadata": {},
   "outputs": [
    {
     "name": "stdout",
     "output_type": "stream",
     "text": [
      "['Low' 'Low' 'High' 'High']\n"
     ]
    }
   ],
   "source": [
    "# np.where() — Conditional Selection\n",
    "a = np.array([10, 15, 20, 25])\n",
    "\n",
    "# Where values > 15, return \"High\", else \"Low\"\n",
    "result = np.where(a > 15, \"High\", \"Low\")\n",
    "print(result)  # → ['Low' 'Low' 'High' 'High']\n"
   ]
  },
  {
   "cell_type": "code",
   "execution_count": 40,
   "id": "fd5440ba",
   "metadata": {},
   "outputs": [
    {
     "name": "stdout",
     "output_type": "stream",
     "text": [
      "[ True False]\n",
      "[ True False]\n"
     ]
    }
   ],
   "source": [
    "# np.any() and np.all()\n",
    "a = np.array([[1, 0],\n",
    "              [3, 4]])\n",
    "\n",
    "# Check if any value is 0 in rows\n",
    "print(np.any(a == 0, axis=1))  # → [ True False]\n",
    "\n",
    "# Check if all values are > 0 in columns\n",
    "print(np.all(a > 0, axis=0))  # → [ True False]\n"
   ]
  },
  {
   "cell_type": "markdown",
   "id": "12ea1f29",
   "metadata": {},
   "source": [
    "###  Reshape, Flatten, and Stack"
   ]
  },
  {
   "cell_type": "code",
   "execution_count": 41,
   "id": "72f5d446",
   "metadata": {},
   "outputs": [
    {
     "name": "stdout",
     "output_type": "stream",
     "text": [
      "[[1 2 3]\n",
      " [4 5 6]]\n"
     ]
    }
   ],
   "source": [
    "# Reshape convert 1D array to 2D Array\n",
    "a = np.array([1, 2, 3, 4, 5, 6])\n",
    "reshaped = a.reshape(2, 3)\n",
    "print(reshaped)\n"
   ]
  },
  {
   "cell_type": "code",
   "execution_count": 42,
   "id": "8f83dfd9",
   "metadata": {},
   "outputs": [
    {
     "name": "stdout",
     "output_type": "stream",
     "text": [
      "[1 2 3 4]\n"
     ]
    }
   ],
   "source": [
    "# Flatten 2D Array to 1D Array\n",
    "a = np.array([[1, 2], [3, 4]])\n",
    "print(a.flatten())  # → [1 2 3 4]\n"
   ]
  },
  {
   "cell_type": "code",
   "execution_count": 43,
   "id": "8a0e9a41",
   "metadata": {},
   "outputs": [
    {
     "name": "stdout",
     "output_type": "stream",
     "text": [
      "[[1 2]\n",
      " [3 4]\n",
      " [5 6]\n",
      " [7 8]]\n",
      "[[1 2 5 6]\n",
      " [3 4 7 8]]\n"
     ]
    }
   ],
   "source": [
    "  # Stack Arrays\n",
    "a = np.array([[1, 2], [3, 4]])\n",
    "b = np.array([[5, 6], [7, 8]])\n",
    "print(np.vstack((a, b)))\n",
    "print(np.hstack((a, b)))\n"
   ]
  },
  {
   "cell_type": "code",
   "execution_count": 44,
   "id": "503e2195",
   "metadata": {},
   "outputs": [
    {
     "name": "stdout",
     "output_type": "stream",
     "text": [
      "[30 10 40]\n"
     ]
    }
   ],
   "source": [
    "# np.random.choice() – Randomly pick from a list\n",
    "arr = np.array([10, 20, 30, 40])\n",
    "print(np.random.choice(arr, 3))\n"
   ]
  },
  {
   "cell_type": "code",
   "execution_count": 45,
   "id": "ee79e29e",
   "metadata": {},
   "outputs": [
    {
     "name": "stdout",
     "output_type": "stream",
     "text": [
      "[3 4 2 1]\n"
     ]
    }
   ],
   "source": [
    "# np.random.shuffle() – Shuffle array in-place\n",
    "arr = np.array([1, 2, 3, 4])\n",
    "np.random.shuffle(arr)\n",
    "print(arr)\n"
   ]
  },
  {
   "cell_type": "code",
   "execution_count": 46,
   "id": "20dbff1c",
   "metadata": {},
   "outputs": [
    {
     "name": "stdout",
     "output_type": "stream",
     "text": [
      "[7 4 8 5 7]\n"
     ]
    }
   ],
   "source": [
    "np.random.seed(42)\n",
    "print(np.random.randint(1, 10, 5))\n"
   ]
  },
  {
   "cell_type": "code",
   "execution_count": null,
   "id": "53158e06",
   "metadata": {},
   "outputs": [
    {
     "name": "stdout",
     "output_type": "stream",
     "text": [
      "[7 4 8 5 7]\n"
     ]
    }
   ],
   "source": [
    " # np.random.seed()\n",
    "np.random.seed(42)\n",
    "print(np.random.randint(1, 10, 5))\n"
   ]
  },
  {
   "cell_type": "code",
   "execution_count": 54,
   "id": "032782e9",
   "metadata": {},
   "outputs": [
    {
     "name": "stdout",
     "output_type": "stream",
     "text": [
      "[1 2 3 4]\n"
     ]
    }
   ],
   "source": [
    "a=np.array([1,2,3,4])\n",
    "print(a)"
   ]
  },
  {
   "cell_type": "code",
   "execution_count": 55,
   "id": "50b56a36",
   "metadata": {},
   "outputs": [
    {
     "name": "stdout",
     "output_type": "stream",
     "text": [
      "(4,)\n"
     ]
    }
   ],
   "source": [
    "print(a.shape)"
   ]
  },
  {
   "cell_type": "code",
   "execution_count": 51,
   "id": "54e62967",
   "metadata": {},
   "outputs": [
    {
     "name": "stdout",
     "output_type": "stream",
     "text": [
      "[[1]\n",
      " [2]\n",
      " [3]]\n"
     ]
    }
   ],
   "source": [
    "a=np.array([[1],[2],[3]])\n",
    "print(a)"
   ]
  },
  {
   "cell_type": "code",
   "execution_count": 52,
   "id": "5ea8bb56",
   "metadata": {},
   "outputs": [
    {
     "name": "stdout",
     "output_type": "stream",
     "text": [
      "(3, 1)\n"
     ]
    }
   ],
   "source": [
    "print(a.shape)"
   ]
  },
  {
   "cell_type": "code",
   "execution_count": null,
   "id": "b49fa4e2",
   "metadata": {},
   "outputs": [],
   "source": []
  }
 ],
 "metadata": {
  "kernelspec": {
   "display_name": "base",
   "language": "python",
   "name": "python3"
  },
  "language_info": {
   "codemirror_mode": {
    "name": "ipython",
    "version": 3
   },
   "file_extension": ".py",
   "mimetype": "text/x-python",
   "name": "python",
   "nbconvert_exporter": "python",
   "pygments_lexer": "ipython3",
   "version": "3.13.5"
  }
 },
 "nbformat": 4,
 "nbformat_minor": 5
}
